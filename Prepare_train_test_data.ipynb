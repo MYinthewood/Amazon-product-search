{
 "cells": [
  {
   "cell_type": "markdown",
   "id": "20f2ba5f-e6bc-433d-a6c8-d7f728a88bec",
   "metadata": {},
   "source": [
    "- This notebook is a data preperation for train and test data.\n",
    "- The model is query-productname two tower Nerual Network model.\n",
    "- The aim for this model is to determine the relevance of product names to queries."
   ]
  },
  {
   "cell_type": "markdown",
   "id": "298aebaf-7c20-4655-ac3d-9a3c199a1081",
   "metadata": {},
   "source": [
    "# load data(query-productID)"
   ]
  },
  {
   "cell_type": "code",
   "execution_count": 1,
   "id": "df6a6365-79f9-4ee5-8c04-0081aaa8510f",
   "metadata": {},
   "outputs": [],
   "source": [
    "import pandas as pd \n",
    "import numpy as np "
   ]
  },
  {
   "cell_type": "code",
   "execution_count": 2,
   "id": "6540dd87-603b-4617-b926-fa88caf5509e",
   "metadata": {},
   "outputs": [
    {
     "name": "stdout",
     "output_type": "stream",
     "text": [
      "(2495116, 4)\n"
     ]
    },
    {
     "data": {
      "text/html": [
       "<div>\n",
       "<style scoped>\n",
       "    .dataframe tbody tr th:only-of-type {\n",
       "        vertical-align: middle;\n",
       "    }\n",
       "\n",
       "    .dataframe tbody tr th {\n",
       "        vertical-align: top;\n",
       "    }\n",
       "\n",
       "    .dataframe thead th {\n",
       "        text-align: right;\n",
       "    }\n",
       "</style>\n",
       "<table border=\"1\" class=\"dataframe\">\n",
       "  <thead>\n",
       "    <tr style=\"text-align: right;\">\n",
       "      <th></th>\n",
       "      <th>query</th>\n",
       "      <th>product_id</th>\n",
       "      <th>esci_label</th>\n",
       "      <th>split</th>\n",
       "    </tr>\n",
       "  </thead>\n",
       "  <tbody>\n",
       "    <tr>\n",
       "      <th>0</th>\n",
       "      <td>trellis for climbing plants</td>\n",
       "      <td>B00L5K420S</td>\n",
       "      <td>I</td>\n",
       "      <td>generated</td>\n",
       "    </tr>\n",
       "    <tr>\n",
       "      <th>1</th>\n",
       "      <td>bathroom countertop soap dispensers</td>\n",
       "      <td>B08FM2Q49N</td>\n",
       "      <td>E</td>\n",
       "      <td>train</td>\n",
       "    </tr>\n",
       "    <tr>\n",
       "      <th>2</th>\n",
       "      <td>gifts for 4 year old girls dress</td>\n",
       "      <td>B07477HKFR</td>\n",
       "      <td>I</td>\n",
       "      <td>test</td>\n",
       "    </tr>\n",
       "    <tr>\n",
       "      <th>3</th>\n",
       "      <td>amplifi gamer’s edition</td>\n",
       "      <td>B07HHHC8JB</td>\n",
       "      <td>E</td>\n",
       "      <td>train</td>\n",
       "    </tr>\n",
       "    <tr>\n",
       "      <th>4</th>\n",
       "      <td>over watch t-shirts</td>\n",
       "      <td>B0027V2EXQ</td>\n",
       "      <td>I</td>\n",
       "      <td>generated</td>\n",
       "    </tr>\n",
       "  </tbody>\n",
       "</table>\n",
       "</div>"
      ],
      "text/plain": [
       "                                 query  product_id esci_label      split\n",
       "0          trellis for climbing plants  B00L5K420S          I  generated\n",
       "1  bathroom countertop soap dispensers  B08FM2Q49N          E      train\n",
       "2     gifts for 4 year old girls dress  B07477HKFR          I       test\n",
       "3              amplifi gamer’s edition  B07HHHC8JB          E      train\n",
       "4                  over watch t-shirts  B0027V2EXQ          I  generated"
      ]
     },
     "execution_count": 2,
     "metadata": {},
     "output_type": "execute_result"
    }
   ],
   "source": [
    "df_dataset = pd.read_csv(\"Dataset.csv\")\n",
    "print(df_dataset.shape)\n",
    "df_dataset.head()"
   ]
  },
  {
   "cell_type": "markdown",
   "id": "8d34db7e-1a12-4bdd-8920-99f4e0f33e31",
   "metadata": {},
   "source": [
    "> I = irrelevant  \n",
    "> E = exact"
   ]
  },
  {
   "cell_type": "code",
   "execution_count": 3,
   "id": "31c884cb-7b87-4129-87f1-3406f3ba035d",
   "metadata": {},
   "outputs": [
    {
     "name": "stdout",
     "output_type": "stream",
     "text": [
      "There are 0 null cells in the product_id column.\n",
      "There are 0 null cells in the query column.\n",
      "There are 0 null cells in the esci_label column.\n",
      "There are 0 null cells in the split column.\n"
     ]
    }
   ],
   "source": [
    "# check null in each columns\n",
    "print(f\"There are {df_dataset['product_id'].isnull().sum()} null cells in the product_id column.\")\n",
    "print(f\"There are {df_dataset['query'].isnull().sum()} null cells in the query column.\")\n",
    "print(f\"There are {df_dataset['esci_label'].isnull().sum()} null cells in the esci_label column.\")\n",
    "print(f\"There are {df_dataset['split'].isnull().sum()} null cells in the split column.\")"
   ]
  },
  {
   "cell_type": "code",
   "execution_count": 4,
   "id": "f88d80cb-18b5-465f-be1d-9986c46ee6d3",
   "metadata": {},
   "outputs": [
    {
     "name": "stdout",
     "output_type": "stream",
     "text": [
      "Unique values: \n",
      "product_id column: 1192578\n",
      "query column: 97344\n",
      "esci_label column: 2\n",
      "split column: 3\n"
     ]
    }
   ],
   "source": [
    "# check unique value in each columns\n",
    "print(\"Unique values: \")\n",
    "print(f\"product_id column: {df_dataset['product_id'].nunique()}\")\n",
    "print(f\"query column: {df_dataset['query'].nunique()}\")\n",
    "print(f\"esci_label column: {df_dataset['esci_label'].nunique()}\")\n",
    "print(f\"split column: {df_dataset['split'].nunique()}\")"
   ]
  },
  {
   "cell_type": "code",
   "execution_count": 5,
   "id": "345c4ef1-a710-4552-ad1d-23654f961a78",
   "metadata": {},
   "outputs": [
    {
     "name": "stdout",
     "output_type": "stream",
     "text": [
      "(1814924, 7)\n"
     ]
    },
    {
     "data": {
      "text/html": [
       "<div>\n",
       "<style scoped>\n",
       "    .dataframe tbody tr th:only-of-type {\n",
       "        vertical-align: middle;\n",
       "    }\n",
       "\n",
       "    .dataframe tbody tr th {\n",
       "        vertical-align: top;\n",
       "    }\n",
       "\n",
       "    .dataframe thead th {\n",
       "        text-align: right;\n",
       "    }\n",
       "</style>\n",
       "<table border=\"1\" class=\"dataframe\">\n",
       "  <thead>\n",
       "    <tr style=\"text-align: right;\">\n",
       "      <th></th>\n",
       "      <th>product_id</th>\n",
       "      <th>product_title</th>\n",
       "      <th>product_description</th>\n",
       "      <th>product_bullet_point</th>\n",
       "      <th>product_brand</th>\n",
       "      <th>product_color</th>\n",
       "      <th>product_locale</th>\n",
       "    </tr>\n",
       "  </thead>\n",
       "  <tbody>\n",
       "    <tr>\n",
       "      <th>0</th>\n",
       "      <td>B079VKKJN7</td>\n",
       "      <td>11 Degrees de los Hombres Playera con Logo, Ne...</td>\n",
       "      <td>Esta playera con el logo de la marca Carrier d...</td>\n",
       "      <td>11 Degrees Negro Playera con logo\\nA estrenar ...</td>\n",
       "      <td>11 Degrees</td>\n",
       "      <td>Negro</td>\n",
       "      <td>es</td>\n",
       "    </tr>\n",
       "    <tr>\n",
       "      <th>1</th>\n",
       "      <td>B079Y9VRKS</td>\n",
       "      <td>Camiseta Eleven Degrees Core TS White (M)</td>\n",
       "      <td>None</td>\n",
       "      <td>None</td>\n",
       "      <td>11 Degrees</td>\n",
       "      <td>Blanco</td>\n",
       "      <td>es</td>\n",
       "    </tr>\n",
       "    <tr>\n",
       "      <th>2</th>\n",
       "      <td>B07DP4LM9H</td>\n",
       "      <td>11 Degrees de los Hombres Core Pull Over Hoodi...</td>\n",
       "      <td>La sudadera con capucha Core Pull Over de 11 G...</td>\n",
       "      <td>11 Degrees Azul Core Pull Over Hoodie\\nA estre...</td>\n",
       "      <td>11 Degrees</td>\n",
       "      <td>Azul</td>\n",
       "      <td>es</td>\n",
       "    </tr>\n",
       "    <tr>\n",
       "      <th>3</th>\n",
       "      <td>B07G37B9HP</td>\n",
       "      <td>11 Degrees Poli Panel Track Pant XL Black</td>\n",
       "      <td>None</td>\n",
       "      <td>None</td>\n",
       "      <td>11 Degrees</td>\n",
       "      <td>None</td>\n",
       "      <td>es</td>\n",
       "    </tr>\n",
       "    <tr>\n",
       "      <th>4</th>\n",
       "      <td>B07LCTGDHY</td>\n",
       "      <td>11 Degrees Gorra Trucker Negro OSFA (Talla úni...</td>\n",
       "      <td>None</td>\n",
       "      <td>None</td>\n",
       "      <td>11 Degrees</td>\n",
       "      <td>Negro (</td>\n",
       "      <td>es</td>\n",
       "    </tr>\n",
       "  </tbody>\n",
       "</table>\n",
       "</div>"
      ],
      "text/plain": [
       "   product_id                                      product_title  \\\n",
       "0  B079VKKJN7  11 Degrees de los Hombres Playera con Logo, Ne...   \n",
       "1  B079Y9VRKS          Camiseta Eleven Degrees Core TS White (M)   \n",
       "2  B07DP4LM9H  11 Degrees de los Hombres Core Pull Over Hoodi...   \n",
       "3  B07G37B9HP          11 Degrees Poli Panel Track Pant XL Black   \n",
       "4  B07LCTGDHY  11 Degrees Gorra Trucker Negro OSFA (Talla úni...   \n",
       "\n",
       "                                 product_description  \\\n",
       "0  Esta playera con el logo de la marca Carrier d...   \n",
       "1                                               None   \n",
       "2  La sudadera con capucha Core Pull Over de 11 G...   \n",
       "3                                               None   \n",
       "4                                               None   \n",
       "\n",
       "                                product_bullet_point product_brand  \\\n",
       "0  11 Degrees Negro Playera con logo\\nA estrenar ...    11 Degrees   \n",
       "1                                               None    11 Degrees   \n",
       "2  11 Degrees Azul Core Pull Over Hoodie\\nA estre...    11 Degrees   \n",
       "3                                               None    11 Degrees   \n",
       "4                                               None    11 Degrees   \n",
       "\n",
       "  product_color product_locale  \n",
       "0         Negro             es  \n",
       "1        Blanco             es  \n",
       "2          Azul             es  \n",
       "3          None             es  \n",
       "4       Negro (             es  "
      ]
     },
     "execution_count": 5,
     "metadata": {},
     "output_type": "execute_result"
    }
   ],
   "source": [
    "df_products = pd.read_parquet(\"shopping_queries_dataset_products.parquet\")\n",
    "print(df_products.shape)\n",
    "df_products.head()"
   ]
  },
  {
   "cell_type": "code",
   "execution_count": 6,
   "id": "4fae2fb2-ad46-4981-8e62-a3a3c5644be4",
   "metadata": {},
   "outputs": [
    {
     "name": "stdout",
     "output_type": "stream",
     "text": [
      "product_locale\n",
      "us    1215854\n",
      "jp     339059\n",
      "es     260011\n",
      "Name: count, dtype: int64\n"
     ]
    }
   ],
   "source": [
    "value_counts = df_products['product_locale'].value_counts()\n",
    "print(value_counts)"
   ]
  },
  {
   "cell_type": "markdown",
   "id": "94adcc74-145b-493a-b796-d6cc8012bbac",
   "metadata": {},
   "source": [
    "# merge two dataframes together"
   ]
  },
  {
   "cell_type": "markdown",
   "id": "9392c6e6-374c-4bdc-809e-323415a532f4",
   "metadata": {},
   "source": [
    "join df_dataset and df_products, using Inner Join (how='inner')"
   ]
  },
  {
   "cell_type": "code",
   "execution_count": 7,
   "id": "4d719b3a-670a-46ea-a63b-c396dd74419c",
   "metadata": {},
   "outputs": [
    {
     "name": "stdout",
     "output_type": "stream",
     "text": [
      "(2532193, 10)\n"
     ]
    },
    {
     "data": {
      "text/html": [
       "<div>\n",
       "<style scoped>\n",
       "    .dataframe tbody tr th:only-of-type {\n",
       "        vertical-align: middle;\n",
       "    }\n",
       "\n",
       "    .dataframe tbody tr th {\n",
       "        vertical-align: top;\n",
       "    }\n",
       "\n",
       "    .dataframe thead th {\n",
       "        text-align: right;\n",
       "    }\n",
       "</style>\n",
       "<table border=\"1\" class=\"dataframe\">\n",
       "  <thead>\n",
       "    <tr style=\"text-align: right;\">\n",
       "      <th></th>\n",
       "      <th>query</th>\n",
       "      <th>product_id</th>\n",
       "      <th>esci_label</th>\n",
       "      <th>split</th>\n",
       "      <th>product_title</th>\n",
       "      <th>product_description</th>\n",
       "      <th>product_bullet_point</th>\n",
       "      <th>product_brand</th>\n",
       "      <th>product_color</th>\n",
       "      <th>product_locale</th>\n",
       "    </tr>\n",
       "  </thead>\n",
       "  <tbody>\n",
       "    <tr>\n",
       "      <th>0</th>\n",
       "      <td>trellis for climbing plants</td>\n",
       "      <td>B00L5K420S</td>\n",
       "      <td>I</td>\n",
       "      <td>generated</td>\n",
       "      <td>vitaminwater zero power c, electrolyte enhance...</td>\n",
       "      <td>None</td>\n",
       "      <td>20 FL OZ bottle of dragonfruit flavored + nutr...</td>\n",
       "      <td>vitaminwater</td>\n",
       "      <td>None</td>\n",
       "      <td>us</td>\n",
       "    </tr>\n",
       "    <tr>\n",
       "      <th>1</th>\n",
       "      <td>vitamin water zero</td>\n",
       "      <td>B00L5K420S</td>\n",
       "      <td>E</td>\n",
       "      <td>train</td>\n",
       "      <td>vitaminwater zero power c, electrolyte enhance...</td>\n",
       "      <td>None</td>\n",
       "      <td>20 FL OZ bottle of dragonfruit flavored + nutr...</td>\n",
       "      <td>vitaminwater</td>\n",
       "      <td>None</td>\n",
       "      <td>us</td>\n",
       "    </tr>\n",
       "    <tr>\n",
       "      <th>2</th>\n",
       "      <td>bathroom countertop soap dispensers</td>\n",
       "      <td>B08FM2Q49N</td>\n",
       "      <td>E</td>\n",
       "      <td>train</td>\n",
       "      <td>OBOR Automatic Soap Dispenser, Soap Dispenser ...</td>\n",
       "      <td>OBOR Automatic Soap Dispenser Touchless Hand Free</td>\n",
       "      <td>☞【FULLY AUTOMATIC AND TOUCHLESS】Soap dispenser...</td>\n",
       "      <td>OBOR</td>\n",
       "      <td>White</td>\n",
       "      <td>us</td>\n",
       "    </tr>\n",
       "    <tr>\n",
       "      <th>3</th>\n",
       "      <td>gifts for 4 year old girls dress</td>\n",
       "      <td>B07477HKFR</td>\n",
       "      <td>I</td>\n",
       "      <td>test</td>\n",
       "      <td>PinkSheep Little Girl Jewel Rings in Box, Adju...</td>\n",
       "      <td>None</td>\n",
       "      <td>❀Original And Trendy Design--Designs of 24 rin...</td>\n",
       "      <td>PinkSheep</td>\n",
       "      <td>None</td>\n",
       "      <td>us</td>\n",
       "    </tr>\n",
       "    <tr>\n",
       "      <th>4</th>\n",
       "      <td>kid rings</td>\n",
       "      <td>B07477HKFR</td>\n",
       "      <td>E</td>\n",
       "      <td>train</td>\n",
       "      <td>PinkSheep Little Girl Jewel Rings in Box, Adju...</td>\n",
       "      <td>None</td>\n",
       "      <td>❀Original And Trendy Design--Designs of 24 rin...</td>\n",
       "      <td>PinkSheep</td>\n",
       "      <td>None</td>\n",
       "      <td>us</td>\n",
       "    </tr>\n",
       "  </tbody>\n",
       "</table>\n",
       "</div>"
      ],
      "text/plain": [
       "                                 query  product_id esci_label      split  \\\n",
       "0          trellis for climbing plants  B00L5K420S          I  generated   \n",
       "1                   vitamin water zero  B00L5K420S          E      train   \n",
       "2  bathroom countertop soap dispensers  B08FM2Q49N          E      train   \n",
       "3     gifts for 4 year old girls dress  B07477HKFR          I       test   \n",
       "4                            kid rings  B07477HKFR          E      train   \n",
       "\n",
       "                                       product_title  \\\n",
       "0  vitaminwater zero power c, electrolyte enhance...   \n",
       "1  vitaminwater zero power c, electrolyte enhance...   \n",
       "2  OBOR Automatic Soap Dispenser, Soap Dispenser ...   \n",
       "3  PinkSheep Little Girl Jewel Rings in Box, Adju...   \n",
       "4  PinkSheep Little Girl Jewel Rings in Box, Adju...   \n",
       "\n",
       "                                 product_description  \\\n",
       "0                                               None   \n",
       "1                                               None   \n",
       "2  OBOR Automatic Soap Dispenser Touchless Hand Free   \n",
       "3                                               None   \n",
       "4                                               None   \n",
       "\n",
       "                                product_bullet_point product_brand  \\\n",
       "0  20 FL OZ bottle of dragonfruit flavored + nutr...  vitaminwater   \n",
       "1  20 FL OZ bottle of dragonfruit flavored + nutr...  vitaminwater   \n",
       "2  ☞【FULLY AUTOMATIC AND TOUCHLESS】Soap dispenser...          OBOR   \n",
       "3  ❀Original And Trendy Design--Designs of 24 rin...     PinkSheep   \n",
       "4  ❀Original And Trendy Design--Designs of 24 rin...     PinkSheep   \n",
       "\n",
       "  product_color product_locale  \n",
       "0          None             us  \n",
       "1          None             us  \n",
       "2         White             us  \n",
       "3          None             us  \n",
       "4          None             us  "
      ]
     },
     "execution_count": 7,
     "metadata": {},
     "output_type": "execute_result"
    }
   ],
   "source": [
    "df = df_dataset.merge(df_products, on = 'product_id', how = 'inner')\n",
    "print(df.shape)\n",
    "df.head()"
   ]
  },
  {
   "cell_type": "code",
   "execution_count": 8,
   "id": "7bfc105d-70b2-4de6-99a1-c34327ae0702",
   "metadata": {},
   "outputs": [
    {
     "name": "stdout",
     "output_type": "stream",
     "text": [
      "There are 0 null cells in the product_id column.\n",
      "There are 0 null cells in the query column.\n",
      "There are 0 null cells in the esci_label column.\n",
      "There are 0 null cells in the split column.\n"
     ]
    }
   ],
   "source": [
    "print(f\"There are {df['product_id'].isnull().sum()} null cells in the product_id column.\")\n",
    "print(f\"There are {df['query'].isnull().sum()} null cells in the query column.\")\n",
    "print(f\"There are {df['esci_label'].isnull().sum()} null cells in the esci_label column.\")\n",
    "print(f\"There are {df['split'].isnull().sum()} null cells in the split column.\")"
   ]
  },
  {
   "cell_type": "markdown",
   "id": "6a4380cc-68e8-4977-9c67-f762e3a94bc4",
   "metadata": {},
   "source": [
    "# Split train, test, generate datasets"
   ]
  },
  {
   "cell_type": "code",
   "execution_count": 12,
   "id": "a3378979-52b9-4f43-bd5b-91a09fa04ec2",
   "metadata": {},
   "outputs": [],
   "source": [
    "# Filter rows where the 'split' column is 'train', 'test', and 'generate'\n",
    "df_train = df[df['split'] == 'train']\n",
    "df_test = df[df['split'] == 'test']\n",
    "df_generated = df[df['split'] == 'generated']"
   ]
  },
  {
   "cell_type": "code",
   "execution_count": 13,
   "id": "df60ebb8-daa1-477c-b630-2d5eba4aef61",
   "metadata": {},
   "outputs": [
    {
     "name": "stdout",
     "output_type": "stream",
     "text": [
      "Shape of df_train:  (1110335, 10)\n",
      "Shape of df_test:  (325924, 10)\n",
      "Shape of df_generated:  (1095934, 10)\n"
     ]
    }
   ],
   "source": [
    "print('Shape of df_train: ',df_train.shape)\n",
    "print('Shape of df_test: ',df_test.shape)\n",
    "print('Shape of df_generated: ',df_generated.shape)"
   ]
  },
  {
   "cell_type": "code",
   "execution_count": 14,
   "id": "7cfccb25-9e2b-43c6-8a90-0b9fa860509e",
   "metadata": {},
   "outputs": [
    {
     "data": {
      "text/plain": [
       "0.22692564502641932"
      ]
     },
     "execution_count": 14,
     "metadata": {},
     "output_type": "execute_result"
    }
   ],
   "source": [
    "325924/(325924+1110335)"
   ]
  },
  {
   "cell_type": "code",
   "execution_count": 15,
   "id": "34262b40-5f25-45e7-aea8-9acaa30d8643",
   "metadata": {},
   "outputs": [
    {
     "data": {
      "text/plain": [
       "0.7730743549735807"
      ]
     },
     "execution_count": 15,
     "metadata": {},
     "output_type": "execute_result"
    }
   ],
   "source": [
    "1110335/(325924+1110335)"
   ]
  },
  {
   "cell_type": "markdown",
   "id": "a89eaa68-2124-4b06-bbda-94b1edc4ee32",
   "metadata": {},
   "source": [
    "# save all datasets"
   ]
  },
  {
   "cell_type": "code",
   "execution_count": 16,
   "id": "6cb32ff4-6c1c-45fa-8642-5c30cc1af22a",
   "metadata": {},
   "outputs": [],
   "source": [
    "# Save the DataFrame to a CSV file\n",
    "df.to_csv('query_product_all.csv', index=False)\n",
    "df_train.to_csv('query_product_train.csv', index=False)\n",
    "df_test.to_csv('query_product_test.csv', index=False) \n",
    "df_generated.to_csv('query_product_generated.csv', index=False) "
   ]
  },
  {
   "cell_type": "code",
   "execution_count": null,
   "id": "02493591-7c64-45f0-9ade-429fb935d427",
   "metadata": {},
   "outputs": [],
   "source": []
  }
 ],
 "metadata": {
  "kernelspec": {
   "display_name": "Python 3 (ipykernel)",
   "language": "python",
   "name": "python3"
  },
  "language_info": {
   "codemirror_mode": {
    "name": "ipython",
    "version": 3
   },
   "file_extension": ".py",
   "mimetype": "text/x-python",
   "name": "python",
   "nbconvert_exporter": "python",
   "pygments_lexer": "ipython3",
   "version": "3.11.7"
  },
  "widgets": {
   "application/vnd.jupyter.widget-state+json": {
    "state": {},
    "version_major": 2,
    "version_minor": 0
   }
  }
 },
 "nbformat": 4,
 "nbformat_minor": 5
}
